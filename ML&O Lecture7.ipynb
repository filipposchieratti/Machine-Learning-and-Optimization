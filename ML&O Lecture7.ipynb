{
 "cells": [
  {
   "cell_type": "code",
   "execution_count": 39,
   "metadata": {},
   "outputs": [],
   "source": [
    "import numpy as np\n",
    "import pandas as pd\n",
    "import matplotlib.pyplot as plt\n",
    "from sklearn.model_selection import train_test_split\n",
    "from sklearn.metrics import roc_curve, auc, roc_auc_score, accuracy_score\n",
    "from sklearn.linear_model import LogisticRegression\n",
    "from sklearn.tree import DecisionTreeClassifier\n",
    "from sklearn import preprocessing\n",
    "from sklearn.ensemble import RandomForestClassifier, GradientBoostingClassifier\n",
    "from sklearn.metrics import confusion_matrix\n"
   ]
  },
  {
   "cell_type": "markdown",
   "metadata": {},
   "source": [
    "Throughout these breakouts, we are considering the *Retention modeling at Scholastic Travel Company* case."
   ]
  },
  {
   "cell_type": "markdown",
   "metadata": {},
   "source": [
    "# BOR 1\n",
    "\n",
    "We use here a preprocessed and engineered dataset. The goal now is to proceed with classification and get some practice using the methods seen in class."
   ]
  },
  {
   "cell_type": "code",
   "execution_count": 35,
   "metadata": {},
   "outputs": [],
   "source": [
    "stca=pd.read_csv(\"stca_clean.csv\")"
   ]
  },
  {
   "cell_type": "code",
   "execution_count": 10,
   "metadata": {},
   "outputs": [
    {
     "data": {
      "text/html": [
       "<div>\n",
       "<style scoped>\n",
       "    .dataframe tbody tr th:only-of-type {\n",
       "        vertical-align: middle;\n",
       "    }\n",
       "\n",
       "    .dataframe tbody tr th {\n",
       "        vertical-align: top;\n",
       "    }\n",
       "\n",
       "    .dataframe thead th {\n",
       "        text-align: right;\n",
       "    }\n",
       "</style>\n",
       "<table border=\"1\" class=\"dataframe\">\n",
       "  <thead>\n",
       "    <tr style=\"text-align: right;\">\n",
       "      <th></th>\n",
       "      <th>From.Grade</th>\n",
       "      <th>To.Grade</th>\n",
       "      <th>Is.Non.Annual.</th>\n",
       "      <th>Days</th>\n",
       "      <th>Departure.Date</th>\n",
       "      <th>Deposit.Date</th>\n",
       "      <th>Tuition</th>\n",
       "      <th>FRP.Active</th>\n",
       "      <th>FRP.Cancelled</th>\n",
       "      <th>Cancelled.Pax</th>\n",
       "      <th>...</th>\n",
       "      <th>Region_New_Mountain</th>\n",
       "      <th>Region_New_North East</th>\n",
       "      <th>Region_New_Northen California</th>\n",
       "      <th>Region_New_Pacific</th>\n",
       "      <th>Region_New_South Atlantic</th>\n",
       "      <th>Region_New_South Central</th>\n",
       "      <th>Region_New_Southern California</th>\n",
       "      <th>Region_New_Texas</th>\n",
       "      <th>Region_New_West North Central</th>\n",
       "      <th>DepartureSeason_Winter</th>\n",
       "    </tr>\n",
       "  </thead>\n",
       "  <tbody>\n",
       "    <tr>\n",
       "      <th>0</th>\n",
       "      <td>4.0</td>\n",
       "      <td>4.0</td>\n",
       "      <td>0.0</td>\n",
       "      <td>1.0</td>\n",
       "      <td>40557.0</td>\n",
       "      <td>40420.0</td>\n",
       "      <td>424.0</td>\n",
       "      <td>25.0</td>\n",
       "      <td>3.0</td>\n",
       "      <td>3.0</td>\n",
       "      <td>...</td>\n",
       "      <td>0</td>\n",
       "      <td>0</td>\n",
       "      <td>0</td>\n",
       "      <td>0</td>\n",
       "      <td>0</td>\n",
       "      <td>0</td>\n",
       "      <td>1</td>\n",
       "      <td>0</td>\n",
       "      <td>0</td>\n",
       "      <td>1</td>\n",
       "    </tr>\n",
       "    <tr>\n",
       "      <th>1</th>\n",
       "      <td>8.0</td>\n",
       "      <td>8.0</td>\n",
       "      <td>0.0</td>\n",
       "      <td>7.0</td>\n",
       "      <td>40557.0</td>\n",
       "      <td>40132.0</td>\n",
       "      <td>2350.0</td>\n",
       "      <td>9.0</td>\n",
       "      <td>9.0</td>\n",
       "      <td>11.0</td>\n",
       "      <td>...</td>\n",
       "      <td>1</td>\n",
       "      <td>0</td>\n",
       "      <td>0</td>\n",
       "      <td>0</td>\n",
       "      <td>0</td>\n",
       "      <td>0</td>\n",
       "      <td>0</td>\n",
       "      <td>0</td>\n",
       "      <td>0</td>\n",
       "      <td>1</td>\n",
       "    </tr>\n",
       "    <tr>\n",
       "      <th>2</th>\n",
       "      <td>8.0</td>\n",
       "      <td>8.0</td>\n",
       "      <td>0.0</td>\n",
       "      <td>3.0</td>\n",
       "      <td>40558.0</td>\n",
       "      <td>40466.0</td>\n",
       "      <td>1181.0</td>\n",
       "      <td>17.0</td>\n",
       "      <td>6.0</td>\n",
       "      <td>6.0</td>\n",
       "      <td>...</td>\n",
       "      <td>0</td>\n",
       "      <td>0</td>\n",
       "      <td>0</td>\n",
       "      <td>0</td>\n",
       "      <td>1</td>\n",
       "      <td>0</td>\n",
       "      <td>0</td>\n",
       "      <td>0</td>\n",
       "      <td>0</td>\n",
       "      <td>1</td>\n",
       "    </tr>\n",
       "    <tr>\n",
       "      <th>3</th>\n",
       "      <td>6.0</td>\n",
       "      <td>8.0</td>\n",
       "      <td>0.0</td>\n",
       "      <td>6.0</td>\n",
       "      <td>40559.0</td>\n",
       "      <td>40451.0</td>\n",
       "      <td>865.0</td>\n",
       "      <td>40.0</td>\n",
       "      <td>8.0</td>\n",
       "      <td>9.0</td>\n",
       "      <td>...</td>\n",
       "      <td>0</td>\n",
       "      <td>0</td>\n",
       "      <td>0</td>\n",
       "      <td>0</td>\n",
       "      <td>1</td>\n",
       "      <td>0</td>\n",
       "      <td>0</td>\n",
       "      <td>0</td>\n",
       "      <td>0</td>\n",
       "      <td>1</td>\n",
       "    </tr>\n",
       "    <tr>\n",
       "      <th>4</th>\n",
       "      <td>10.0</td>\n",
       "      <td>12.0</td>\n",
       "      <td>0.0</td>\n",
       "      <td>4.0</td>\n",
       "      <td>40560.0</td>\n",
       "      <td>40451.0</td>\n",
       "      <td>2025.0</td>\n",
       "      <td>9.0</td>\n",
       "      <td>4.0</td>\n",
       "      <td>3.0</td>\n",
       "      <td>...</td>\n",
       "      <td>0</td>\n",
       "      <td>0</td>\n",
       "      <td>0</td>\n",
       "      <td>0</td>\n",
       "      <td>0</td>\n",
       "      <td>1</td>\n",
       "      <td>0</td>\n",
       "      <td>0</td>\n",
       "      <td>0</td>\n",
       "      <td>1</td>\n",
       "    </tr>\n",
       "    <tr>\n",
       "      <th>...</th>\n",
       "      <td>...</td>\n",
       "      <td>...</td>\n",
       "      <td>...</td>\n",
       "      <td>...</td>\n",
       "      <td>...</td>\n",
       "      <td>...</td>\n",
       "      <td>...</td>\n",
       "      <td>...</td>\n",
       "      <td>...</td>\n",
       "      <td>...</td>\n",
       "      <td>...</td>\n",
       "      <td>...</td>\n",
       "      <td>...</td>\n",
       "      <td>...</td>\n",
       "      <td>...</td>\n",
       "      <td>...</td>\n",
       "      <td>...</td>\n",
       "      <td>...</td>\n",
       "      <td>...</td>\n",
       "      <td>...</td>\n",
       "      <td>...</td>\n",
       "    </tr>\n",
       "    <tr>\n",
       "      <th>2130</th>\n",
       "      <td>6.0</td>\n",
       "      <td>8.0</td>\n",
       "      <td>0.0</td>\n",
       "      <td>7.0</td>\n",
       "      <td>40721.0</td>\n",
       "      <td>40501.0</td>\n",
       "      <td>2650.0</td>\n",
       "      <td>7.0</td>\n",
       "      <td>0.0</td>\n",
       "      <td>0.0</td>\n",
       "      <td>...</td>\n",
       "      <td>0</td>\n",
       "      <td>0</td>\n",
       "      <td>0</td>\n",
       "      <td>0</td>\n",
       "      <td>1</td>\n",
       "      <td>0</td>\n",
       "      <td>0</td>\n",
       "      <td>0</td>\n",
       "      <td>0</td>\n",
       "      <td>0</td>\n",
       "    </tr>\n",
       "    <tr>\n",
       "      <th>2131</th>\n",
       "      <td>9.0</td>\n",
       "      <td>12.0</td>\n",
       "      <td>0.0</td>\n",
       "      <td>7.0</td>\n",
       "      <td>40721.0</td>\n",
       "      <td>40515.0</td>\n",
       "      <td>2519.0</td>\n",
       "      <td>6.0</td>\n",
       "      <td>0.0</td>\n",
       "      <td>4.0</td>\n",
       "      <td>...</td>\n",
       "      <td>0</td>\n",
       "      <td>0</td>\n",
       "      <td>0</td>\n",
       "      <td>0</td>\n",
       "      <td>0</td>\n",
       "      <td>0</td>\n",
       "      <td>1</td>\n",
       "      <td>0</td>\n",
       "      <td>0</td>\n",
       "      <td>0</td>\n",
       "    </tr>\n",
       "    <tr>\n",
       "      <th>2132</th>\n",
       "      <td>7.0</td>\n",
       "      <td>8.0</td>\n",
       "      <td>0.0</td>\n",
       "      <td>5.0</td>\n",
       "      <td>40722.0</td>\n",
       "      <td>40527.0</td>\n",
       "      <td>1892.0</td>\n",
       "      <td>18.0</td>\n",
       "      <td>4.0</td>\n",
       "      <td>7.0</td>\n",
       "      <td>...</td>\n",
       "      <td>0</td>\n",
       "      <td>0</td>\n",
       "      <td>0</td>\n",
       "      <td>0</td>\n",
       "      <td>0</td>\n",
       "      <td>0</td>\n",
       "      <td>1</td>\n",
       "      <td>0</td>\n",
       "      <td>0</td>\n",
       "      <td>0</td>\n",
       "    </tr>\n",
       "    <tr>\n",
       "      <th>2133</th>\n",
       "      <td>8.0</td>\n",
       "      <td>8.0</td>\n",
       "      <td>0.0</td>\n",
       "      <td>5.0</td>\n",
       "      <td>40723.0</td>\n",
       "      <td>40466.0</td>\n",
       "      <td>1699.0</td>\n",
       "      <td>16.0</td>\n",
       "      <td>4.0</td>\n",
       "      <td>4.0</td>\n",
       "      <td>...</td>\n",
       "      <td>0</td>\n",
       "      <td>0</td>\n",
       "      <td>0</td>\n",
       "      <td>0</td>\n",
       "      <td>0</td>\n",
       "      <td>0</td>\n",
       "      <td>1</td>\n",
       "      <td>0</td>\n",
       "      <td>0</td>\n",
       "      <td>0</td>\n",
       "    </tr>\n",
       "    <tr>\n",
       "      <th>2134</th>\n",
       "      <td>8.0</td>\n",
       "      <td>8.0</td>\n",
       "      <td>0.0</td>\n",
       "      <td>6.0</td>\n",
       "      <td>40724.0</td>\n",
       "      <td>40480.0</td>\n",
       "      <td>2135.0</td>\n",
       "      <td>15.0</td>\n",
       "      <td>9.0</td>\n",
       "      <td>17.0</td>\n",
       "      <td>...</td>\n",
       "      <td>0</td>\n",
       "      <td>0</td>\n",
       "      <td>0</td>\n",
       "      <td>1</td>\n",
       "      <td>0</td>\n",
       "      <td>0</td>\n",
       "      <td>0</td>\n",
       "      <td>0</td>\n",
       "      <td>0</td>\n",
       "      <td>0</td>\n",
       "    </tr>\n",
       "  </tbody>\n",
       "</table>\n",
       "<p>2135 rows × 43 columns</p>\n",
       "</div>"
      ],
      "text/plain": [
       "      From.Grade  To.Grade  Is.Non.Annual.  Days  Departure.Date  \\\n",
       "0            4.0       4.0             0.0   1.0         40557.0   \n",
       "1            8.0       8.0             0.0   7.0         40557.0   \n",
       "2            8.0       8.0             0.0   3.0         40558.0   \n",
       "3            6.0       8.0             0.0   6.0         40559.0   \n",
       "4           10.0      12.0             0.0   4.0         40560.0   \n",
       "...          ...       ...             ...   ...             ...   \n",
       "2130         6.0       8.0             0.0   7.0         40721.0   \n",
       "2131         9.0      12.0             0.0   7.0         40721.0   \n",
       "2132         7.0       8.0             0.0   5.0         40722.0   \n",
       "2133         8.0       8.0             0.0   5.0         40723.0   \n",
       "2134         8.0       8.0             0.0   6.0         40724.0   \n",
       "\n",
       "      Deposit.Date  Tuition  FRP.Active  FRP.Cancelled  Cancelled.Pax  ...  \\\n",
       "0          40420.0    424.0        25.0            3.0            3.0  ...   \n",
       "1          40132.0   2350.0         9.0            9.0           11.0  ...   \n",
       "2          40466.0   1181.0        17.0            6.0            6.0  ...   \n",
       "3          40451.0    865.0        40.0            8.0            9.0  ...   \n",
       "4          40451.0   2025.0         9.0            4.0            3.0  ...   \n",
       "...            ...      ...         ...            ...            ...  ...   \n",
       "2130       40501.0   2650.0         7.0            0.0            0.0  ...   \n",
       "2131       40515.0   2519.0         6.0            0.0            4.0  ...   \n",
       "2132       40527.0   1892.0        18.0            4.0            7.0  ...   \n",
       "2133       40466.0   1699.0        16.0            4.0            4.0  ...   \n",
       "2134       40480.0   2135.0        15.0            9.0           17.0  ...   \n",
       "\n",
       "      Region_New_Mountain  Region_New_North East  \\\n",
       "0                       0                      0   \n",
       "1                       1                      0   \n",
       "2                       0                      0   \n",
       "3                       0                      0   \n",
       "4                       0                      0   \n",
       "...                   ...                    ...   \n",
       "2130                    0                      0   \n",
       "2131                    0                      0   \n",
       "2132                    0                      0   \n",
       "2133                    0                      0   \n",
       "2134                    0                      0   \n",
       "\n",
       "      Region_New_Northen California  Region_New_Pacific  \\\n",
       "0                                 0                   0   \n",
       "1                                 0                   0   \n",
       "2                                 0                   0   \n",
       "3                                 0                   0   \n",
       "4                                 0                   0   \n",
       "...                             ...                 ...   \n",
       "2130                              0                   0   \n",
       "2131                              0                   0   \n",
       "2132                              0                   0   \n",
       "2133                              0                   0   \n",
       "2134                              0                   1   \n",
       "\n",
       "      Region_New_South Atlantic  Region_New_South Central  \\\n",
       "0                             0                         0   \n",
       "1                             0                         0   \n",
       "2                             1                         0   \n",
       "3                             1                         0   \n",
       "4                             0                         1   \n",
       "...                         ...                       ...   \n",
       "2130                          1                         0   \n",
       "2131                          0                         0   \n",
       "2132                          0                         0   \n",
       "2133                          0                         0   \n",
       "2134                          0                         0   \n",
       "\n",
       "      Region_New_Southern California  Region_New_Texas  \\\n",
       "0                                  1                 0   \n",
       "1                                  0                 0   \n",
       "2                                  0                 0   \n",
       "3                                  0                 0   \n",
       "4                                  0                 0   \n",
       "...                              ...               ...   \n",
       "2130                               0                 0   \n",
       "2131                               1                 0   \n",
       "2132                               1                 0   \n",
       "2133                               1                 0   \n",
       "2134                               0                 0   \n",
       "\n",
       "      Region_New_West North Central  DepartureSeason_Winter  \n",
       "0                                 0                       1  \n",
       "1                                 0                       1  \n",
       "2                                 0                       1  \n",
       "3                                 0                       1  \n",
       "4                                 0                       1  \n",
       "...                             ...                     ...  \n",
       "2130                              0                       0  \n",
       "2131                              0                       0  \n",
       "2132                              0                       0  \n",
       "2133                              0                       0  \n",
       "2134                              0                       0  \n",
       "\n",
       "[2135 rows x 43 columns]"
      ]
     },
     "execution_count": 10,
     "metadata": {},
     "output_type": "execute_result"
    }
   ],
   "source": [
    "stca"
   ]
  },
  {
   "cell_type": "markdown",
   "metadata": {},
   "source": [
    "1. Create the labels `y` and the feature matrix `X` as discussed in class."
   ]
  },
  {
   "cell_type": "code",
   "execution_count": 17,
   "metadata": {},
   "outputs": [],
   "source": [
    "y=stca[\"Retained.in.2012.\"]"
   ]
  },
  {
   "cell_type": "code",
   "execution_count": 18,
   "metadata": {},
   "outputs": [],
   "source": [
    "X=stca.drop(columns=[\"Retained.in.2012.\"])"
   ]
  },
  {
   "cell_type": "markdown",
   "metadata": {},
   "source": [
    "2. Separate the data into training/validation/testing with percentages 60/20/20."
   ]
  },
  {
   "cell_type": "code",
   "execution_count": 19,
   "metadata": {},
   "outputs": [],
   "source": [
    "X_train, X_other, y_train, y_other = train_test_split(X, y, test_size=0.4)"
   ]
  },
  {
   "cell_type": "code",
   "execution_count": 20,
   "metadata": {},
   "outputs": [],
   "source": [
    "X_test, X_validation, y_test, y_validation = train_test_split(X_other, y_other, test_size=0.5)"
   ]
  },
  {
   "cell_type": "markdown",
   "metadata": {},
   "source": [
    "## A. Logistic Regression"
   ]
  },
  {
   "cell_type": "markdown",
   "metadata": {},
   "source": [
    "1. Train the logistic regression model on the training set using `LogisticRegression(max_iter=2000)`. "
   ]
  },
  {
   "cell_type": "code",
   "execution_count": 23,
   "metadata": {},
   "outputs": [
    {
     "data": {
      "text/plain": [
       "LogisticRegression(max_iter=2000)"
      ]
     },
     "execution_count": 23,
     "metadata": {},
     "output_type": "execute_result"
    }
   ],
   "source": [
    "classifier_LR = LogisticRegression(max_iter=2000)\n",
    "classifier_LR.fit(X_train, y_train)"
   ]
  },
  {
   "cell_type": "markdown",
   "metadata": {},
   "source": [
    "2. Obtain the predicted probabilites on the validation set."
   ]
  },
  {
   "cell_type": "code",
   "execution_count": 24,
   "metadata": {},
   "outputs": [],
   "source": [
    "y_pred_prob=classifier_LR.predict_proba(X_validation)[:,1]"
   ]
  },
  {
   "cell_type": "markdown",
   "metadata": {},
   "source": [
    "3. Compute the AUC for the Logistic Regression model using `roc_auc_score`. Write the value you find in the spreadsheet."
   ]
  },
  {
   "cell_type": "code",
   "execution_count": 25,
   "metadata": {},
   "outputs": [
    {
     "data": {
      "text/plain": [
       "0.702095739278955"
      ]
     },
     "execution_count": 25,
     "metadata": {},
     "output_type": "execute_result"
    }
   ],
   "source": [
    "roc_auc_score(y_validation, y_pred_prob)"
   ]
  },
  {
   "cell_type": "markdown",
   "metadata": {},
   "source": [
    "## B. Classification trees "
   ]
  },
  {
   "cell_type": "markdown",
   "metadata": {},
   "source": [
    "1. Train a classification tree on the training set using `max_leaf_nodes=8`."
   ]
  },
  {
   "cell_type": "code",
   "execution_count": 26,
   "metadata": {},
   "outputs": [
    {
     "data": {
      "text/plain": [
       "DecisionTreeClassifier(max_leaf_nodes=8)"
      ]
     },
     "execution_count": 26,
     "metadata": {},
     "output_type": "execute_result"
    }
   ],
   "source": [
    "classifier_DT = DecisionTreeClassifier(max_leaf_nodes = 8)\n",
    "classifier_DT.fit(X_train, y_train)"
   ]
  },
  {
   "cell_type": "markdown",
   "metadata": {},
   "source": [
    "2. Obtain the predicted probabilites on the validation set."
   ]
  },
  {
   "cell_type": "code",
   "execution_count": 27,
   "metadata": {},
   "outputs": [],
   "source": [
    "y_pred_prob=classifier_DT.predict_proba(X_validation)[:,1]"
   ]
  },
  {
   "cell_type": "markdown",
   "metadata": {},
   "source": [
    "3. Compute the AUC for the Classification Tree model using `roc_auc_score`. Write the value you find in the spreadsheet."
   ]
  },
  {
   "cell_type": "code",
   "execution_count": 28,
   "metadata": {},
   "outputs": [
    {
     "data": {
      "text/plain": [
       "0.8260282509347736"
      ]
     },
     "execution_count": 28,
     "metadata": {},
     "output_type": "execute_result"
    }
   ],
   "source": [
    "roc_auc_score(y_validation, y_pred_prob)"
   ]
  },
  {
   "cell_type": "markdown",
   "metadata": {},
   "source": [
    "## C. Random Forest\n",
    "\n",
    "1. Train a random forest on the training set using `RandomForestClassifier`."
   ]
  },
  {
   "cell_type": "code",
   "execution_count": 29,
   "metadata": {},
   "outputs": [
    {
     "data": {
      "text/plain": [
       "RandomForestClassifier()"
      ]
     },
     "execution_count": 29,
     "metadata": {},
     "output_type": "execute_result"
    }
   ],
   "source": [
    "classifier_RF = RandomForestClassifier()\n",
    "classifier_RF.fit(X_train, y_train)"
   ]
  },
  {
   "cell_type": "markdown",
   "metadata": {},
   "source": [
    "2. Compute the predicted probabilities on the validation set using this model."
   ]
  },
  {
   "cell_type": "code",
   "execution_count": 30,
   "metadata": {},
   "outputs": [],
   "source": [
    "y_pred_prob=classifier_RF.predict_proba(X_validation)[:,1]"
   ]
  },
  {
   "cell_type": "markdown",
   "metadata": {},
   "source": [
    "3. Compute the AUC for the Random Forest model using `roc_auc_score`. Write the value you find in the spreadsheet."
   ]
  },
  {
   "cell_type": "code",
   "execution_count": 31,
   "metadata": {},
   "outputs": [
    {
     "data": {
      "text/plain": [
       "0.840869224022527"
      ]
     },
     "execution_count": 31,
     "metadata": {},
     "output_type": "execute_result"
    }
   ],
   "source": [
    "roc_auc_score(y_validation, y_pred_prob)"
   ]
  },
  {
   "cell_type": "markdown",
   "metadata": {},
   "source": [
    "## D. Boosted Trees\n",
    "\n",
    "1. Train a boosted tree on the training set using `GradientBoostingClassifier`."
   ]
  },
  {
   "cell_type": "code",
   "execution_count": 32,
   "metadata": {},
   "outputs": [
    {
     "data": {
      "text/plain": [
       "GradientBoostingClassifier()"
      ]
     },
     "execution_count": 32,
     "metadata": {},
     "output_type": "execute_result"
    }
   ],
   "source": [
    "classifier_GBM = GradientBoostingClassifier()\n",
    "\n",
    "classifier_GBM.fit(X_train, y_train)"
   ]
  },
  {
   "cell_type": "markdown",
   "metadata": {},
   "source": [
    "2. Compute the predicted probabilities on the validation set using this model."
   ]
  },
  {
   "cell_type": "code",
   "execution_count": 33,
   "metadata": {},
   "outputs": [],
   "source": [
    "y_pred_prob=classifier_GBM.predict_proba(X_validation)[:,1]"
   ]
  },
  {
   "cell_type": "markdown",
   "metadata": {},
   "source": [
    "3. Compute the AUC for the Boosted Tree model using `roc_auc_score`. Write the value you find in the spreadsheet."
   ]
  },
  {
   "cell_type": "code",
   "execution_count": 34,
   "metadata": {},
   "outputs": [
    {
     "data": {
      "text/plain": [
       "0.8378802566588192"
      ]
     },
     "execution_count": 34,
     "metadata": {},
     "output_type": "execute_result"
    }
   ],
   "source": [
    "roc_auc_score(y_validation, y_pred_prob)"
   ]
  },
  {
   "cell_type": "markdown",
   "metadata": {},
   "source": [
    "# BOR 2"
   ]
  },
  {
   "cell_type": "markdown",
   "metadata": {},
   "source": [
    "We are now moving forward with the last steps in the supervised machine learning pipeline.\n",
    "\n",
    "1. Merge the training and validation sets together."
   ]
  },
  {
   "cell_type": "code",
   "execution_count": 43,
   "metadata": {},
   "outputs": [],
   "source": [
    "Xtrain_val=pd.concat([X_train,X_validation])\n",
    "ytrain_val=pd.concat([y_train, y_validation])"
   ]
  },
  {
   "cell_type": "markdown",
   "metadata": {},
   "source": [
    "2. Retrain the winning model on the merged set."
   ]
  },
  {
   "cell_type": "code",
   "execution_count": 45,
   "metadata": {},
   "outputs": [
    {
     "data": {
      "text/plain": [
       "GradientBoostingClassifier()"
      ]
     },
     "execution_count": 45,
     "metadata": {},
     "output_type": "execute_result"
    }
   ],
   "source": [
    "classifier_GBM = GradientBoostingClassifier()\n",
    "\n",
    "classifier_GBM.fit(Xtrain_val, ytrain_val)"
   ]
  },
  {
   "cell_type": "markdown",
   "metadata": {},
   "source": [
    "3. Obtain the predicted probabilities on the test set. Using a threshold=0.7 and `np.where`, obtain the predicted classes from the predicted probabilities."
   ]
  },
  {
   "cell_type": "code",
   "execution_count": 46,
   "metadata": {},
   "outputs": [],
   "source": [
    "y_pred_prob=classifier_GBM.predict_proba(X_test)[:,1]"
   ]
  },
  {
   "cell_type": "code",
   "execution_count": 47,
   "metadata": {},
   "outputs": [],
   "source": [
    "threshold=0.7\n",
    "y_pred=np.where(y_pred_prob>threshold,1,0)"
   ]
  },
  {
   "cell_type": "markdown",
   "metadata": {},
   "source": [
    "4. Using the predicted classes and the real test set labels, deduce the confusion matrix and the accuracy."
   ]
  },
  {
   "cell_type": "code",
   "execution_count": 48,
   "metadata": {},
   "outputs": [
    {
     "name": "stdout",
     "output_type": "stream",
     "text": [
      "[[147  22]\n",
      " [ 78 180]]\n",
      "0.765807962529274\n"
     ]
    }
   ],
   "source": [
    "print(confusion_matrix(y_test,y_pred))\n",
    "print(accuracy_score(y_test,y_pred))"
   ]
  },
  {
   "cell_type": "markdown",
   "metadata": {},
   "source": [
    "5. Using `.features_importance_` on the model as we saw last time, are there any interesting insights you can get?"
   ]
  },
  {
   "cell_type": "code",
   "execution_count": 50,
   "metadata": {},
   "outputs": [
    {
     "data": {
      "text/plain": [
       "array([2.89364344e-03, 7.85826459e-03, 1.40137503e-01, 3.67646416e-03,\n",
       "       2.72963938e-02, 2.31551418e-02, 4.35417655e-02, 2.18290686e-02,\n",
       "       1.00967908e-02, 1.68872489e-02, 7.06699903e-03, 3.69171479e-02,\n",
       "       3.27328737e-03, 4.69594322e-03, 1.19903947e-02, 1.90341311e-02,\n",
       "       9.20806113e-04, 8.68316660e-02, 4.12803765e-03, 3.74296268e-01,\n",
       "       9.29699276e-03, 0.00000000e+00, 0.00000000e+00, 2.33929323e-03,\n",
       "       1.29847160e-03, 2.01132978e-03, 1.58024407e-03, 1.13193045e-01,\n",
       "       1.20157239e-03, 1.40225095e-02, 6.48740745e-04, 0.00000000e+00,\n",
       "       3.83396469e-04, 1.72886548e-04, 0.00000000e+00, 1.43884719e-03,\n",
       "       3.16361516e-03, 2.20033007e-04, 2.50104722e-03, 1.00949604e-06,\n",
       "       0.00000000e+00, 0.00000000e+00])"
      ]
     },
     "execution_count": 50,
     "metadata": {},
     "output_type": "execute_result"
    }
   ],
   "source": [
    "classifier_GBM.feature_importances_"
   ]
  },
  {
   "cell_type": "code",
   "execution_count": 52,
   "metadata": {},
   "outputs": [
    {
     "data": {
      "text/plain": [
       "<AxesSubplot:xlabel='Feature Importance'>"
      ]
     },
     "execution_count": 52,
     "metadata": {},
     "output_type": "execute_result"
    },
    {
     "data": {
      "image/png": "[encoded data removed]",
      "text/plain": [
       "<Figure size 432x288 with 1 Axes>"
      ]
     },
     "metadata": {
      "needs_background": "light"
     },
     "output_type": "display_data"
    }
   ],
   "source": [
    "import seaborn as sns\n",
    "df=pd.DataFrame(index=X_train.columns)\n",
    "df[\"Feature Importance\"]=classifier_GBM.feature_importances_\n",
    "df_sorted=df.sort_values(by=\"Feature Importance\")\n",
    "sns.barplot(data=df_sorted[-10:],x=\"Feature Importance\", y=df_sorted[-10:].index)"
   ]
  }
 ],
 "metadata": {
  "kernelspec": {
   "display_name": "Python 3 (ipykernel)",
   "language": "python",
   "name": "python3"
  },
  "language_info": {
   "codemirror_mode": {
    "name": "ipython",
    "version": 3
   },
   "file_extension": ".py",
   "mimetype": "text/x-python",
   "name": "python",
   "nbconvert_exporter": "python",
   "pygments_lexer": "ipython3",
   "version": "3.8.11"
  }
 },
 "nbformat": 4,
 "nbformat_minor": 4
}
